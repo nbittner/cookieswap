{
 "cells": [
  {
   "cell_type": "code",
   "execution_count": null,
   "metadata": {},
   "outputs": [],
   "source": [
    "from bs4 import BeautifulSoup\n",
    "import requests\n",
    "import pandas as pd\n",
    "import numpy as np"
   ]
  },
  {
   "cell_type": "code",
   "execution_count": null,
   "metadata": {},
   "outputs": [],
   "source": [
    "import re\n",
    "#load empty array of real users\n",
    "treatments = []\n",
    "names = []\n",
    "sinces = []\n",
    "collections = []\n",
    "recipes = []\n",
    "articles = []\n",
    "followings = []\n",
    "followers = []\n",
    "cws = []\n",
    "cfs = []\n",
    "tks = []\n",
    "FILE = open(\"../urls2016_19.txt\")\n",
    "LINES = FILE.readlines()\n",
    "for LINE in LINES: \n",
    "    result = requests.get(LINE)\n",
    "    if result.status_code == 200:\n",
    "        src = result.content\n",
    "        soup = BeautifulSoup(src,'lxml')\n",
    "        treatment = '1'\n",
    "        treatments.append(treatment)\n",
    "        #username\n",
    "        name = soup.find_all('a')[8]\n",
    "        #nametext = name.text\n",
    "        names.append(name.text)\n",
    "        #member since\n",
    "        since = soup.find('p', class_ ='memeber-since').text\n",
    "        sinces.append(since)\n",
    "        collection = soup.find('li', class_='current').a.span.text\n",
    "        collections.append(int(collection))\n",
    "        recipe = soup.select('a[title*=\"Recipes added by\"]')\n",
    "        recipes.append(recipe if result else \"N/A\")\n",
    "        article = soup.select('a[href*=\"articles\"]')\n",
    "        articles.append(article if result else \"N/A\")\n",
    "        following = soup.select('a[href*=\"following\"]')\n",
    "        followings.append(following if result else \"N/A\")\n",
    "        follower = soup.select('a[href*=\"followers\"]')\n",
    "        followers.append(follower if result else \"N/A\")\n",
    "        cw = soup.select('a[title*=\"View winning recipes\"]')\n",
    "        if cw:\n",
    "            cw = str(cw)\n",
    "            cw = re.sub(r'\\n', '', cw)\n",
    "            cw = re.sub(r'^.*?count\">\\(', '', cw)\n",
    "            cw = re.sub(r'\\)</span></a>]', '', cw)\n",
    "            cw = int(cw)\n",
    "        else:\n",
    "            cw = 0\n",
    "        cws.append(cw)\n",
    "        cf = soup.select('a[title*=\"View finalist recipes\"]')    \n",
    "        if cf:\n",
    "            cf = str(cf)\n",
    "            cf = re.sub(r'\\n', '', cf)\n",
    "            cf = re.sub(r'^.*?count\">\\(', '', cf)\n",
    "            cf = re.sub(r'\\)</span></a>]', '', cf)\n",
    "            cf = int(cf)\n",
    "        else:\n",
    "            cf = 0\n",
    "        cfs.append(cf)\n",
    "        tk = soup.select('a[title*=\"View test kitchen\"]')    \n",
    "        if tk:\n",
    "            tk = str(tk)\n",
    "            tk = re.sub(r'\\n', '', tk)\n",
    "            tk = re.sub(r'^.*?count\">\\(', '', tk)\n",
    "            tk = re.sub(r'\\)</span></a>]', '', tk)\n",
    "            if tk.startswith('['):\n",
    "                tk = 1\n",
    "            else:\n",
    "                tk = int(tk)\n",
    "        else:\n",
    "            tk = 0\n",
    "        cks.append(ctk)\n",
    "        print(cf)\n",
    "#    else:\n",
    "#        print(LINE)"
   ]
  },
  {
   "cell_type": "code",
   "execution_count": null,
   "metadata": {},
   "outputs": [],
   "source": [
    "cws"
   ]
  },
  {
   "cell_type": "code",
   "execution_count": null,
   "metadata": {},
   "outputs": [],
   "source": [
    "df = pd.DataFrame({'treatments': treatments, \n",
    "'users': names,\n",
    "'member_since': sinces,\n",
    "'num_collections': collections,\n",
    "'num_recipes': recipes,\n",
    "'num_articles': articles,\n",
    "'following': followings,\n",
    "'followers': followers,                  \n",
    "})\n",
    "print(df.info())\n",
    "df\n",
    "df.to_csv('scraped.csv')"
   ]
  },
  {
   "cell_type": "code",
   "execution_count": null,
   "metadata": {},
   "outputs": [],
   "source": [
    "df = df.astype({\"num_recipes\": str})\n",
    "print(df.info())\n",
    "df\n",
    "#df['num_recipes'] = df['num_recipes'].str.replace('', \"0\")\n",
    "#df['member_since'] = pd.to_datetime(df['member_since'], format = '%b %d, %Y')\n",
    "#df['num_recipes']\n",
    "#df['point'] = df['point'].str.replace(\", 0.0\", '')\n",
    "#df.to_csv('scraped.csv')"
   ]
  },
  {
   "cell_type": "code",
   "execution_count": null,
   "metadata": {},
   "outputs": [],
   "source": [
    "df = pd.read_csv('../scraped_touse.txt', delimiter='\\t')\n",
    "print(df.info())\n",
    "df\n",
    "#all = dfyou.append(fdf)\n",
    "#all.to_csv('all.csv')"
   ]
  },
  {
   "cell_type": "code",
   "execution_count": null,
   "metadata": {},
   "outputs": [],
   "source": [
    "rdf = pd.read_csv('../random.tab.txt', delimiter='\\t')\n",
    "rdf"
   ]
  },
  {
   "cell_type": "code",
   "execution_count": null,
   "metadata": {},
   "outputs": [],
   "source": [
    "all = df.append(rdf)\n",
    "all.to_csv('all.csv')"
   ]
  },
  {
   "cell_type": "code",
   "execution_count": null,
   "metadata": {},
   "outputs": [],
   "source": [
    "x = all.treatments\n",
    "y = all.num_recipes"
   ]
  },
  {
   "cell_type": "code",
   "execution_count": null,
   "metadata": {},
   "outputs": [],
   "source": [
    "import matplotlib.pyplot as plt\n",
    "plt.bar(x, y, color='green')"
   ]
  },
  {
   "cell_type": "code",
   "execution_count": null,
   "metadata": {},
   "outputs": [],
   "source": []
  },
  {
   "cell_type": "code",
   "execution_count": null,
   "metadata": {},
   "outputs": [],
   "source": []
  }
 ],
 "metadata": {
  "kernelspec": {
   "display_name": "Python 3",
   "language": "python",
   "name": "python3"
  },
  "language_info": {
   "codemirror_mode": {
    "name": "ipython",
    "version": 3
   },
   "file_extension": ".py",
   "mimetype": "text/x-python",
   "name": "python",
   "nbconvert_exporter": "python",
   "pygments_lexer": "ipython3",
   "version": "3.6.10"
  }
 },
 "nbformat": 4,
 "nbformat_minor": 4
}
