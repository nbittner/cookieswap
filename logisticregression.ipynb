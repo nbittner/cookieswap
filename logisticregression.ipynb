{
 "cells": [
  {
   "cell_type": "code",
   "execution_count": null,
   "metadata": {},
   "outputs": [],
   "source": [
    "import pandas as pd\n",
    "from sklearn.model_selection import train_test_split\n",
    "from sklearn.linear_model import LogisticRegression\n",
    "from sklearn import metrics\n",
    "import seaborn as sn\n",
    "import matplotlib.pyplot as plt"
   ]
  },
  {
   "cell_type": "code",
   "execution_count": null,
   "metadata": {},
   "outputs": [],
   "source": [
    "df = pd.read_csv('../all2.txt', delimiter='\\t')\n",
    "df.head()"
   ]
  },
  {
   "cell_type": "code",
   "execution_count": null,
   "metadata": {},
   "outputs": [],
   "source": [
    "df['member_since'] = df['member_since'].str.replace(\"-09\", '-2009')\n",
    "df['member_since'] = df['member_since'].str.replace(\"-10\", '-2010')\n",
    "df['member_since'] = df['member_since'].str.replace(\"-11\", '-2011')\n",
    "df['member_since'] = df['member_since'].str.replace(\"-12\", '-2012')\n",
    "df['member_since'] = df['member_since'].str.replace(\"-13\", '-2013')\n",
    "df['member_since'] = df['member_since'].str.replace(\"-14\", '-2014')\n",
    "df['member_since'] = df['member_since'].str.replace(\"-15\", '-2015')\n",
    "df['member_since'] = df['member_since'].str.replace(\"-16\", '-2016')\n",
    "df['member_since'] = df['member_since'].str.replace(\"-17\", '-2017')\n",
    "df['member_since'] = df['member_since'].str.replace(\"-18\", '-2018')\n",
    "df['member_since'] = df['member_since'].str.replace(\"-19\", '-2019')\n",
    "#df['member_since'] = pd.to_datetime(df['member_since'], format='%d-%b-%Y')\n",
    "df"
   ]
  },
  {
   "cell_type": "code",
   "execution_count": null,
   "metadata": {
    "scrolled": true
   },
   "outputs": [],
   "source": [
    "x = df[[ 'num_collections', 'following', 'followers', 'num_recipes']]\n",
    "y = df['treatments']\n",
    "y.shape"
   ]
  },
  {
   "cell_type": "code",
   "execution_count": null,
   "metadata": {},
   "outputs": [],
   "source": [
    "x_train, x_test,y_train, y_test = train_test_split(x,y,test_size=0.25,random_state = 0)"
   ]
  },
  {
   "cell_type": "code",
   "execution_count": null,
   "metadata": {},
   "outputs": [],
   "source": [
    "logistic_regression= LogisticRegression()\n",
    "logistic_regression.fit(x_train,y_train)\n",
    "y_pred=logistic_regression.predict(x_test)"
   ]
  },
  {
   "cell_type": "code",
   "execution_count": null,
   "metadata": {},
   "outputs": [],
   "source": [
    "confusion_matrix = pd.crosstab(y_test, y_pred, rownames=['Actual'], colnames=['Predicted'])\n",
    "sn.heatmap(confusion_matrix, annot=True)"
   ]
  },
  {
   "cell_type": "code",
   "execution_count": null,
   "metadata": {},
   "outputs": [],
   "source": [
    "print('Accuracy: ',metrics.accuracy_score(y_test, y_pred))\n",
    "plt.show()"
   ]
  },
  {
   "cell_type": "code",
   "execution_count": null,
   "metadata": {},
   "outputs": [],
   "source": []
  }
 ],
 "metadata": {
  "kernelspec": {
   "display_name": "Python 3",
   "language": "python",
   "name": "python3"
  },
  "language_info": {
   "codemirror_mode": {
    "name": "ipython",
    "version": 3
   },
   "file_extension": ".py",
   "mimetype": "text/x-python",
   "name": "python",
   "nbconvert_exporter": "python",
   "pygments_lexer": "ipython3",
   "version": "3.6.10"
  }
 },
 "nbformat": 4,
 "nbformat_minor": 4
}
